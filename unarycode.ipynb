{
 "cells": [
  {
   "cell_type": "markdown",
   "metadata": {},
   "source": [
    "Unary code just writes n bits to code n terminated with a 0."
   ]
  },
  {
   "cell_type": "code",
   "execution_count": 20,
   "metadata": {},
   "outputs": [
    {
     "name": "stdout",
     "output_type": "stream",
     "text": [
      "5\n"
     ]
    }
   ],
   "source": [
    "def encode(number):\n",
    "    return (1 << number) - 2\n",
    "\n",
    "def decode(number):\n",
    "    result = 1\n",
    "    while (number > 0):\n",
    "        result = result + 1\n",
    "        number = number >> 1\n",
    "    return result - 1\n",
    "\n",
    "\"{0:b}\".format(encode(4))\n",
    "print(decode(encode(5)))"
   ]
  }
 ],
 "metadata": {
  "kernelspec": {
   "display_name": "Python 3.9.13 64-bit (microsoft store)",
   "language": "python",
   "name": "python3"
  },
  "language_info": {
   "codemirror_mode": {
    "name": "ipython",
    "version": 3
   },
   "file_extension": ".py",
   "mimetype": "text/x-python",
   "name": "python",
   "nbconvert_exporter": "python",
   "pygments_lexer": "ipython3",
   "version": "3.9.13"
  },
  "orig_nbformat": 4,
  "vscode": {
   "interpreter": {
    "hash": "75477a66dd8d1e651a357c59909b55d6a5fefd90efe79201233be7ee6fe892ca"
   }
  }
 },
 "nbformat": 4,
 "nbformat_minor": 2
}
