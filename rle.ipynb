{
 "cells": [
  {
   "cell_type": "markdown",
   "metadata": {},
   "source": [
    "Run length compresses data by replacing runs of x repetitions in data by the amount of repetitions. \n",
    "You need a character to escape your count, we'll use the character @. Note that this implementation we print the amount of repetitions as a byte, so it doesn't work with a repetition over 255.\n"
   ]
  },
  {
   "cell_type": "code",
   "execution_count": 49,
   "metadata": {},
   "outputs": [],
   "source": [
    "def MNP5Compress(text):\n",
    "    compressed = \"\"\n",
    "    current_index = 0\n",
    "    repeat_counter = 0\n",
    "    while current_index < len(text):\n",
    "        current_char = text[current_index]\n",
    "        current_index = current_index + 1\n",
    "        if current_index == 1:\n",
    "            compressed = compressed + current_char\n",
    "            last_character = current_char            \n",
    "        elif(last_character == current_char):\n",
    "            repeat_counter = repeat_counter + 1\n",
    "        elif(repeat_counter < 4):\n",
    "            compressed = compressed + last_character * repeat_counter\n",
    "            compressed = compressed + current_char\n",
    "            last_character = current_char\n",
    "            repeat_counter = 0\n",
    "        else:\n",
    "            compressed = compressed + \"@\"+chr(repeat_counter)\n",
    "            compressed = compressed + current_char\n",
    "            last_character = current_char\n",
    "            repeat_counter = 0\n",
    "    \n",
    "    return compressed\n",
    "\n",
    "\n",
    "def MNP5Decompress(text):\n",
    "    compression_flag = False\n",
    "    current_index = 0\n",
    "    output = \"\"\n",
    "    current_read = \"\"\n",
    "    while current_index < len(text):\n",
    "        prev_read = current_read\n",
    "        current_read = text[current_index]\n",
    "        current_index = current_index + 1\n",
    "        if current_read == \"@\":\n",
    "            compression_flag = True\n",
    "            current_read = text[current_index]\n",
    "            current_index = current_index + 1\n",
    "            output = output + prev_read * ord(current_read)\n",
    "            compression_flag = False\n",
    "        else:\n",
    "            output = output + current_read\n",
    "    \n",
    "    return output\n",
    "\n",
    "        \n"
   ]
  },
  {
   "cell_type": "code",
   "execution_count": 50,
   "metadata": {},
   "outputs": [
    {
     "name": "stdout",
     "output_type": "stream",
     "text": [
      "TEXT\n",
      "333TEXT\n",
      "3@\u0004TEXT\n",
      "33333TEXT\n",
      "33333333333333333333333333333333333333333333333333333TEXT\n"
     ]
    }
   ],
   "source": [
    "print(MNP5Compress(\"TEXT\"))\n",
    "print(MNP5Compress(\"333TEXT\"))\n",
    "print(MNP5Compress(\"33333TEXT\"))\n",
    "print(MNP5Decompress(\"33333TEXT\"))\n",
    "print(MNP5Decompress(\"3@4TEXT\"))"
   ]
  }
 ],
 "metadata": {
  "kernelspec": {
   "display_name": "Python 3.8.6 64-bit",
   "language": "python",
   "name": "python3"
  },
  "language_info": {
   "codemirror_mode": {
    "name": "ipython",
    "version": 3
   },
   "file_extension": ".py",
   "mimetype": "text/x-python",
   "name": "python",
   "nbconvert_exporter": "python",
   "pygments_lexer": "ipython3",
   "version": "3.8.6"
  },
  "orig_nbformat": 4,
  "vscode": {
   "interpreter": {
    "hash": "fa19269b33143f34807fe041ae7f8f7e7eb24ac77375c058efb4973e4248ffcd"
   }
  }
 },
 "nbformat": 4,
 "nbformat_minor": 2
}
