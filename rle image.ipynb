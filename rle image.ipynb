{
 "cells": [
  {
   "cell_type": "markdown",
   "metadata": {},
   "source": [
    "Run length compresses data by replacing runs of x repetitions in data by the amount of repetitions. \n",
    "You need a character to escape your count, we'll use the character @. Note that this implementation we print the amount of repetitions as a byte, so it doesn't work with a repetition over 255.\n"
   ]
  },
  {
   "cell_type": "code",
   "execution_count": 3,
   "metadata": {},
   "outputs": [],
   "source": [
    "def MNP5Compress(text, escape_char = '@'):\n",
    "    compressed = \"\"\n",
    "    current_index = 0\n",
    "    repeat_counter = 0\n",
    "    while current_index < len(text):\n",
    "        current_char = text[current_index]\n",
    "        current_index = current_index + 1\n",
    "        if current_index == 1:\n",
    "            compressed = compressed + current_char\n",
    "            last_character = current_char            \n",
    "        elif(last_character == current_char):\n",
    "            repeat_counter = repeat_counter + 1\n",
    "        elif(repeat_counter < 4):\n",
    "            compressed = compressed + last_character * repeat_counter\n",
    "            compressed = compressed + current_char\n",
    "            last_character = current_char\n",
    "            repeat_counter = 0\n",
    "        else:\n",
    "            compressed = compressed + escape_char + chr(repeat_counter)\n",
    "            compressed = compressed + current_char\n",
    "            last_character = current_char\n",
    "            repeat_counter = 0\n",
    "    \n",
    "    return compressed\n",
    "\n",
    "\n",
    "def MNP5Decompress(text, escape_char = '@'):\n",
    "    compression_flag = False\n",
    "    current_index = 0\n",
    "    output = \"\"\n",
    "    current_read = \"\"\n",
    "    while current_index < len(text):\n",
    "        prev_read = current_read\n",
    "        current_read = text[current_index]\n",
    "        current_index = current_index + 1\n",
    "        if current_read == escape_char:\n",
    "            compression_flag = True\n",
    "            current_read = text[current_index]\n",
    "            current_index = current_index + 1\n",
    "            output = output + prev_read * ord(current_read)\n",
    "            compression_flag = False\n",
    "        else:\n",
    "            output = output + current_read\n",
    "    \n",
    "    return output\n",
    "\n",
    "        \n"
   ]
  },
  {
   "cell_type": "markdown",
   "metadata": {},
   "source": [
    "We'll use a grayscale image of a snail to try the image compression using RLE."
   ]
  },
  {
   "cell_type": "code",
   "execution_count": 4,
   "metadata": {},
   "outputs": [
    {
     "name": "stdout",
     "output_type": "stream",
     "text": [
      "Size before compression: 65536\n",
      "Size after compression: 14044\n"
     ]
    }
   ],
   "source": [
    "from PIL import Image\n",
    "img = Image.open('snail.bmp')\n",
    "gray_img = img.convert(\"L\")\n",
    "pix_values = \"\".join([chr(i) for i in list(gray_img.getdata())])\n",
    "compressed = MNP5Compress(pix_values)\n",
    "size_compressed = len(compressed)\n",
    "size_before_compress=  len(pix_values)\n",
    "print(f\"Size before compression: {size_before_compress}\")\n",
    "print(f\"Size after compression: {size_compressed}\")"
   ]
  },
  {
   "cell_type": "code",
   "execution_count": null,
   "metadata": {},
   "outputs": [],
   "source": []
  }
 ],
 "metadata": {
  "kernelspec": {
   "display_name": "Python 3.8.6 64-bit",
   "language": "python",
   "name": "python3"
  },
  "language_info": {
   "codemirror_mode": {
    "name": "ipython",
    "version": 3
   },
   "file_extension": ".py",
   "mimetype": "text/x-python",
   "name": "python",
   "nbconvert_exporter": "python",
   "pygments_lexer": "ipython3",
   "version": "3.8.6"
  },
  "orig_nbformat": 4,
  "vscode": {
   "interpreter": {
    "hash": "fa19269b33143f34807fe041ae7f8f7e7eb24ac77375c058efb4973e4248ffcd"
   }
  }
 },
 "nbformat": 4,
 "nbformat_minor": 2
}
