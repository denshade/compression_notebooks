{
 "cells": [
  {
   "cell_type": "markdown",
   "metadata": {},
   "source": [
    "Scalar quantization assumes a uniform field of numbers and reduces the amount of data that needs to be stored. \n",
    "This can be achieved by splitting the field of possible numbers by k. This yields a number round to max / k. "
   ]
  },
  {
   "cell_type": "code",
   "execution_count": 6,
   "metadata": {},
   "outputs": [
    {
     "data": {
      "text/plain": [
       "[0, 2, 4, 4]"
      ]
     },
     "execution_count": 6,
     "metadata": {},
     "output_type": "execute_result"
    }
   ],
   "source": [
    "def scalar_quantization_compress(numbers, k): \n",
    "    return [round(number/k) for number in numbers]\n",
    "def scalar_quantization_decompress(numbers, k): \n",
    "    return [number*k for number in numbers]\n",
    "\n",
    "scalar_quantization_compress([1,2,3,4],2)\n",
    "scalar_quantization_decompress(scalar_quantization_compress([1,2,3,4],2),2)"
   ]
  }
 ],
 "metadata": {
  "kernelspec": {
   "display_name": "Python 3.9.13 64-bit (microsoft store)",
   "language": "python",
   "name": "python3"
  },
  "language_info": {
   "codemirror_mode": {
    "name": "ipython",
    "version": 3
   },
   "file_extension": ".py",
   "mimetype": "text/x-python",
   "name": "python",
   "nbconvert_exporter": "python",
   "pygments_lexer": "ipython3",
   "version": "3.9.13"
  },
  "orig_nbformat": 4,
  "vscode": {
   "interpreter": {
    "hash": "75477a66dd8d1e651a357c59909b55d6a5fefd90efe79201233be7ee6fe892ca"
   }
  }
 },
 "nbformat": 4,
 "nbformat_minor": 2
}
