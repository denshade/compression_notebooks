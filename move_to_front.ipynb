{
 "cells": [
  {
   "cell_type": "markdown",
   "metadata": {},
   "source": [
    "Move-to-front coding encodes the dictionary index of the symbols. We start off with a dictionary of the symbols.\n",
    "When a symbol is encountered it is moved to the front of the dictionary, so repeating a symbol emits a small index."
   ]
  },
  {
   "cell_type": "code",
   "execution_count": 6,
   "metadata": {},
   "outputs": [
    {
     "name": "stdout",
     "output_type": "stream",
     "text": [
      "dictionary ['6', '3', '2', '4', '1', '5']\n",
      "dictionary ['1', '3', '2', '4', '6', '5']\n",
      "dictionary ['1', '3', '2', '4', '6', '5']\n",
      "dictionary ['2', '3', '1', '4', '6', '5']\n",
      "dictionary ['4', '3', '1', '2', '6', '5']\n",
      "dictionary ['5', '3', '1', '2', '6', '4']\n",
      "dictionary ['6', '3', '1', '2', '5', '4']\n",
      "dictionary ['2', '3', '1', '6', '5', '4']\n",
      "dictionary ['2', '3', '1', '6', '5', '4']\n",
      "dictionary ['2', '3', '1', '6', '5', '4']\n",
      "dictionary ['2', '3', '1', '6', '5', '4']\n",
      "dictionary ['3', '2', '1', '6', '5', '4']\n",
      "dictionary ['5', '2', '1', '6', '3', '4']\n",
      "dictionary ['4', '2', '1', '6', '3', '5']\n"
     ]
    },
    {
     "data": {
      "text/plain": [
       "[4, 0, 2, 3, 5, 4, 3, 0, 0, 0, 1, 4, 5]"
      ]
     },
     "execution_count": 6,
     "metadata": {},
     "output_type": "execute_result"
    }
   ],
   "source": [
    "def create_dictionary(text): \n",
    "    return list(set(text))\n",
    "\n",
    "# Swap function\n",
    "def swapPositions(list, pos1, pos2):     \n",
    "    list[pos1], list[pos2] = list[pos2], list[pos1]\n",
    "    return list\n",
    "\n",
    "def move_to_front_encode(text):\n",
    "    dictionary = create_dictionary(text)\n",
    "    print(f\"dictionary {dictionary}\")\n",
    "    output = []\n",
    "    for char in text: \n",
    "        output.append(dictionary.index(char))\n",
    "        dictionary = swapPositions(dictionary, dictionary.index(char), 0)\n",
    "        print(f\"dictionary {dictionary}\")\n",
    "    return output\n",
    "\n",
    "move_to_front_encode(\"1124562222354\")"
   ]
  }
 ],
 "metadata": {
  "kernelspec": {
   "display_name": "Python 3.8.6 ('venv': venv)",
   "language": "python",
   "name": "python3"
  },
  "language_info": {
   "codemirror_mode": {
    "name": "ipython",
    "version": 3
   },
   "file_extension": ".py",
   "mimetype": "text/x-python",
   "name": "python",
   "nbconvert_exporter": "python",
   "pygments_lexer": "ipython3",
   "version": "3.8.6"
  },
  "orig_nbformat": 4,
  "vscode": {
   "interpreter": {
    "hash": "323d86811c5b1924fb7c3b5d4c4ef70c06068355957b6628357f01d67f2330c9"
   }
  }
 },
 "nbformat": 4,
 "nbformat_minor": 2
}
